{
 "cells": [
  {
   "cell_type": "code",
   "execution_count": 1,
   "metadata": {},
   "outputs": [],
   "source": [
    "# Importing necessary packages\n",
    "from polygon import Polygon\n",
    "from customPolygon import Polygon_Sequence"
   ]
  },
  {
   "cell_type": "markdown",
   "metadata": {},
   "source": [
    "### Class Polygon_Sequence"
   ]
  },
  {
   "cell_type": "code",
   "execution_count": 2,
   "metadata": {},
   "outputs": [],
   "source": [
    "# Creating a custom_polygon_sequence object\n",
    "polygons = Polygon_Sequence(25, 10)"
   ]
  },
  {
   "cell_type": "code",
   "execution_count": 3,
   "metadata": {},
   "outputs": [
    {
     "name": "stdout",
     "output_type": "stream",
     "text": [
      "Polygon Sequence::  Circumradius : 10 , Largest Number Of Edges: 25, length : 23\n"
     ]
    }
   ],
   "source": [
    "# Checking the repr method of the class\n",
    "print(polygons)"
   ]
  },
  {
   "cell_type": "code",
   "execution_count": 4,
   "metadata": {},
   "outputs": [
    {
     "name": "stdout",
     "output_type": "stream",
     "text": [
      "Regular Convex Polygon with edges : 25 and circumradius : 10\n"
     ]
    }
   ],
   "source": [
    "# Checking the polygon with highest area to perimeter ratio\n",
    "print(polygons.max_efficiency_polygon)"
   ]
  },
  {
   "cell_type": "code",
   "execution_count": 5,
   "metadata": {},
   "outputs": [
    {
     "name": "stdout",
     "output_type": "stream",
     "text": [
      "Regular Convex Polygon with edges : 3 and circumradius : 10\n",
      "Regular Convex Polygon with edges : 4 and circumradius : 10\n",
      "Regular Convex Polygon with edges : 5 and circumradius : 10\n",
      "Regular Convex Polygon with edges : 6 and circumradius : 10\n",
      "Regular Convex Polygon with edges : 7 and circumradius : 10\n",
      "Regular Convex Polygon with edges : 8 and circumradius : 10\n",
      "Regular Convex Polygon with edges : 9 and circumradius : 10\n",
      "Regular Convex Polygon with edges : 10 and circumradius : 10\n",
      "Regular Convex Polygon with edges : 11 and circumradius : 10\n",
      "Regular Convex Polygon with edges : 12 and circumradius : 10\n"
     ]
    }
   ],
   "source": [
    "# Proof that the object is a sequence, implementation of __getitem__()\n",
    "for i in range(0, 10):\n",
    "    print(polygons.__getitem__(i))"
   ]
  },
  {
   "cell_type": "code",
   "execution_count": 6,
   "metadata": {},
   "outputs": [
    {
     "name": "stdout",
     "output_type": "stream",
     "text": [
      "Regular Convex Polygon with edges : 3 and circumradius : 10\n",
      "Regular Convex Polygon with edges : 25 and circumradius : 10\n"
     ]
    }
   ],
   "source": [
    "# Proof that the object is a sequence, implementation of indexing\n",
    "print(polygons[0])\n",
    "print(polygons[-1])"
   ]
  },
  {
   "cell_type": "code",
   "execution_count": 7,
   "metadata": {},
   "outputs": [
    {
     "data": {
      "text/plain": [
       "<customPolygon.Polygon_Sequence.PolygonIterator at 0x192e13c8eb8>"
      ]
     },
     "execution_count": 7,
     "metadata": {},
     "output_type": "execute_result"
    }
   ],
   "source": [
    "# Proof that the custom polygon class is a iterable\n",
    "iter(polygons)"
   ]
  },
  {
   "cell_type": "code",
   "execution_count": 8,
   "metadata": {},
   "outputs": [
    {
     "name": "stdout",
     "output_type": "stream",
     "text": [
      "Regular Convex Polygon with edges : 3 and circumradius : 10\n"
     ]
    }
   ],
   "source": [
    "# Using the polygon class as an iterable\n",
    "for polys in polygons:\n",
    "    print(polys)\n",
    "    break"
   ]
  },
  {
   "cell_type": "code",
   "execution_count": 9,
   "metadata": {},
   "outputs": [
    {
     "name": "stdout",
     "output_type": "stream",
     "text": [
      "The perimeter/area ratios of the polygons\n",
      "Regular Convex Polygon with edges : 3 and circumradius : 10\n",
      "Regular Convex Polygon with edges : 4 and circumradius : 10\n",
      "Regular Convex Polygon with edges : 5 and circumradius : 10\n",
      "Regular Convex Polygon with edges : 6 and circumradius : 10\n",
      "Regular Convex Polygon with edges : 7 and circumradius : 10\n",
      "Regular Convex Polygon with edges : 8 and circumradius : 10\n",
      "Regular Convex Polygon with edges : 9 and circumradius : 10\n",
      "Regular Convex Polygon with edges : 10 and circumradius : 10\n",
      "Regular Convex Polygon with edges : 11 and circumradius : 10\n",
      "Regular Convex Polygon with edges : 12 and circumradius : 10\n",
      "Regular Convex Polygon with edges : 13 and circumradius : 10\n",
      "Regular Convex Polygon with edges : 14 and circumradius : 10\n",
      "Regular Convex Polygon with edges : 15 and circumradius : 10\n",
      "Regular Convex Polygon with edges : 16 and circumradius : 10\n",
      "Regular Convex Polygon with edges : 17 and circumradius : 10\n",
      "Regular Convex Polygon with edges : 18 and circumradius : 10\n",
      "Regular Convex Polygon with edges : 19 and circumradius : 10\n",
      "Regular Convex Polygon with edges : 20 and circumradius : 10\n",
      "Regular Convex Polygon with edges : 21 and circumradius : 10\n",
      "Regular Convex Polygon with edges : 22 and circumradius : 10\n",
      "Regular Convex Polygon with edges : 23 and circumradius : 10\n",
      "Regular Convex Polygon with edges : 24 and circumradius : 10\n",
      "Regular Convex Polygon with edges : 25 and circumradius : 10\n"
     ]
    }
   ],
   "source": [
    "# implementation of the __next__() method\n",
    "poly_iter = iter(polygons)\n",
    "print(\"The perimeter/area ratios of the polygons\")\n",
    "for i in range(len(polygons)):\n",
    "    print(next(poly_iter))"
   ]
  },
  {
   "cell_type": "code",
   "execution_count": 10,
   "metadata": {},
   "outputs": [
    {
     "ename": "StopIteration",
     "evalue": "",
     "output_type": "error",
     "traceback": [
      "\u001b[1;31m---------------------------------------------------------------------------\u001b[0m",
      "\u001b[1;31mStopIteration\u001b[0m                             Traceback (most recent call last)",
      "\u001b[1;32m<ipython-input-10-58a7cf98efc1>\u001b[0m in \u001b[0;36m<module>\u001b[1;34m()\u001b[0m\n\u001b[0;32m      1\u001b[0m \u001b[1;31m# Getting the StopIteration exception after exhausting the poly_iter\u001b[0m\u001b[1;33m\u001b[0m\u001b[1;33m\u001b[0m\u001b[0m\n\u001b[1;32m----> 2\u001b[1;33m \u001b[0mnext\u001b[0m\u001b[1;33m(\u001b[0m\u001b[0mpoly_iter\u001b[0m\u001b[1;33m)\u001b[0m\u001b[1;33m\u001b[0m\u001b[0m\n\u001b[0m",
      "\u001b[1;32mE:\\Nikhil\\EPAi\\Assignments\\EPAi3-Session12\\customPolygon.py\u001b[0m in \u001b[0;36m__next__\u001b[1;34m(self)\u001b[0m\n\u001b[0;32m     71\u001b[0m         \u001b[1;32mdef\u001b[0m \u001b[0m__next__\u001b[0m\u001b[1;33m(\u001b[0m\u001b[0mself\u001b[0m\u001b[1;33m)\u001b[0m\u001b[1;33m:\u001b[0m\u001b[1;33m\u001b[0m\u001b[0m\n\u001b[0;32m     72\u001b[0m             \u001b[1;32mif\u001b[0m \u001b[0mself\u001b[0m\u001b[1;33m.\u001b[0m\u001b[0m_index\u001b[0m \u001b[1;33m>\u001b[0m \u001b[0mself\u001b[0m\u001b[1;33m.\u001b[0m\u001b[0m_poly_obj\u001b[0m\u001b[1;33m.\u001b[0m\u001b[0mlargest_num_edges\u001b[0m\u001b[1;33m:\u001b[0m\u001b[1;33m\u001b[0m\u001b[0m\n\u001b[1;32m---> 73\u001b[1;33m                 \u001b[1;32mraise\u001b[0m \u001b[0mStopIteration\u001b[0m\u001b[1;33m\u001b[0m\u001b[0m\n\u001b[0m\u001b[0;32m     74\u001b[0m             \u001b[1;32melse\u001b[0m\u001b[1;33m:\u001b[0m\u001b[1;33m\u001b[0m\u001b[0m\n\u001b[0;32m     75\u001b[0m                 \u001b[0mpoly\u001b[0m \u001b[1;33m=\u001b[0m \u001b[0mPolygon\u001b[0m\u001b[1;33m(\u001b[0m\u001b[0mself\u001b[0m\u001b[1;33m.\u001b[0m\u001b[0m_index\u001b[0m\u001b[1;33m,\u001b[0m \u001b[0mself\u001b[0m\u001b[1;33m.\u001b[0m\u001b[0m_poly_obj\u001b[0m\u001b[1;33m.\u001b[0m\u001b[0m_circumradius\u001b[0m\u001b[1;33m)\u001b[0m\u001b[1;33m\u001b[0m\u001b[0m\n",
      "\u001b[1;31mStopIteration\u001b[0m: "
     ]
    }
   ],
   "source": [
    "# Getting the StopIteration exception after exhausting the poly_iter\n",
    "next(poly_iter)"
   ]
  }
 ],
 "metadata": {
  "kernelspec": {
   "display_name": "Python 3",
   "language": "python",
   "name": "python3"
  },
  "language_info": {
   "codemirror_mode": {
    "name": "ipython",
    "version": 3
   },
   "file_extension": ".py",
   "mimetype": "text/x-python",
   "name": "python",
   "nbconvert_exporter": "python",
   "pygments_lexer": "ipython3",
   "version": "3.6.5"
  }
 },
 "nbformat": 4,
 "nbformat_minor": 2
}
